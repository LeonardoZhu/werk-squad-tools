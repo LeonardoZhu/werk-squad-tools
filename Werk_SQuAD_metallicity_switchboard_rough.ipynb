{
 "cells": [
  {
   "cell_type": "markdown",
   "metadata": {},
   "source": [
    "# Metallicity Switchboard"
   ]
  },
  {
   "cell_type": "code",
   "execution_count": 18,
   "metadata": {},
   "outputs": [],
   "source": [
    "import astropy.units as u\n",
    "import astropy.constants as ac\n",
    "from astropy.cosmology import FlatLambdaCDM\n",
    "import numpy as np\n",
    "import pandas as pd\n",
    "import os\n",
    "from os.path import expanduser\n",
    "from astropy.table import Table\n",
    "from glob import glob\n",
    "from O3N2 import*\n",
    "from SFR import*\n",
    "from Distance import*\n",
    "from Ha_Luminosity import*\n",
    "from findR23 import*\n",
    "from O3HB import*"
   ]
  },
  {
   "cell_type": "code",
   "execution_count": 19,
   "metadata": {},
   "outputs": [
    {
     "name": "stderr",
     "output_type": "stream",
     "text": [
      "/Users/josephbreneman/miniconda3/lib/python3.7/site-packages/ipykernel_launcher.py:21: SettingWithCopyWarning: \n",
      "A value is trying to be set on a copy of a slice from a DataFrame\n",
      "\n",
      "See the caveats in the documentation: https://pandas.pydata.org/pandas-docs/stable/user_guide/indexing.html#returning-a-view-versus-a-copy\n"
     ]
    },
    {
     "data": {
      "text/html": [
       "<div>\n",
       "<style scoped>\n",
       "    .dataframe tbody tr th:only-of-type {\n",
       "        vertical-align: middle;\n",
       "    }\n",
       "\n",
       "    .dataframe tbody tr th {\n",
       "        vertical-align: top;\n",
       "    }\n",
       "\n",
       "    .dataframe thead th {\n",
       "        text-align: right;\n",
       "    }\n",
       "</style>\n",
       "<table border=\"1\" class=\"dataframe\">\n",
       "  <thead>\n",
       "    <tr style=\"text-align: right;\">\n",
       "      <th></th>\n",
       "      <th>specfile</th>\n",
       "      <th>id</th>\n",
       "      <th>OBJECT</th>\n",
       "      <th>cgm_name</th>\n",
       "      <th>gal_ra</th>\n",
       "      <th>gal_dec</th>\n",
       "      <th>z</th>\n",
       "      <th>OII_flux</th>\n",
       "      <th>OII_flux_sig</th>\n",
       "      <th>OII_LQ</th>\n",
       "      <th>Hbeta_flux</th>\n",
       "      <th>Hbeta_flux_sig</th>\n",
       "      <th>Hbeta_LQ</th>\n",
       "      <th>OIII_flux</th>\n",
       "      <th>OIII_flux_sig</th>\n",
       "      <th>OIII_LQ</th>\n",
       "      <th>Halpha_flux</th>\n",
       "      <th>Halpha_flux_sig</th>\n",
       "      <th>Halpha_LQ</th>\n",
       "      <th>NII_flux</th>\n",
       "      <th>NII_flux_sig</th>\n",
       "      <th>NII_LQ</th>\n",
       "      <th>SIIa_flux</th>\n",
       "      <th>SIIa_flux_sig</th>\n",
       "      <th>SIIa_LQ</th>\n",
       "      <th>SIIb_flux</th>\n",
       "      <th>SIIb_flux_sig</th>\n",
       "      <th>SIIb_LQ</th>\n",
       "      <th>Comment</th>\n",
       "    </tr>\n",
       "  </thead>\n",
       "  <tbody>\n",
       "    <tr>\n",
       "      <th>0</th>\n",
       "      <td>J022601.51+001532.5.fits</td>\n",
       "      <td>J022601.51+001532.5._03</td>\n",
       "      <td>J0226+0015</td>\n",
       "      <td>J0226+0015_271_194</td>\n",
       "      <td>36.506302</td>\n",
       "      <td>0.25904</td>\n",
       "      <td>0.352715</td>\n",
       "      <td>NaN</td>\n",
       "      <td>-99.0</td>\n",
       "      <td>-99.0</td>\n",
       "      <td>2.130000e-17</td>\n",
       "      <td>2.440000e-18</td>\n",
       "      <td>1.0</td>\n",
       "      <td>2.250000e-17</td>\n",
       "      <td>1.760000e-18</td>\n",
       "      <td>1.0</td>\n",
       "      <td>3.120000e-17</td>\n",
       "      <td>2.470000e-18</td>\n",
       "      <td>1.0</td>\n",
       "      <td>1.120000e-17</td>\n",
       "      <td>2.570000e-18</td>\n",
       "      <td>1.0</td>\n",
       "      <td>1.290000e-17</td>\n",
       "      <td>7.990000e-19</td>\n",
       "      <td>1.0</td>\n",
       "      <td>1.760000e-18</td>\n",
       "      <td>1.140000e-18</td>\n",
       "      <td>1.0</td>\n",
       "      <td>NaN</td>\n",
       "    </tr>\n",
       "    <tr>\n",
       "      <th>1</th>\n",
       "      <td>J022602.41+001536.6.fits</td>\n",
       "      <td>J022602.41+001536.6._01</td>\n",
       "      <td>J0226+0015</td>\n",
       "      <td>J0226+0015_272_181</td>\n",
       "      <td>36.510059</td>\n",
       "      <td>0.26017</td>\n",
       "      <td>0.297832</td>\n",
       "      <td>NaN</td>\n",
       "      <td>-99.0</td>\n",
       "      <td>-99.0</td>\n",
       "      <td>NaN</td>\n",
       "      <td>-9.900000e+01</td>\n",
       "      <td>-99.0</td>\n",
       "      <td>2.190000e-17</td>\n",
       "      <td>1.870000e-18</td>\n",
       "      <td>1.0</td>\n",
       "      <td>2.080000e-17</td>\n",
       "      <td>8.410000e-19</td>\n",
       "      <td>1.0</td>\n",
       "      <td>NaN</td>\n",
       "      <td>-9.900000e+01</td>\n",
       "      <td>-99.0</td>\n",
       "      <td>NaN</td>\n",
       "      <td>-9.900000e+01</td>\n",
       "      <td>2.0</td>\n",
       "      <td>NaN</td>\n",
       "      <td>-9.900000e+01</td>\n",
       "      <td>2.0</td>\n",
       "      <td>NaN</td>\n",
       "    </tr>\n",
       "  </tbody>\n",
       "</table>\n",
       "</div>"
      ],
      "text/plain": [
       "                   specfile                       id      OBJECT  \\\n",
       "0  J022601.51+001532.5.fits  J022601.51+001532.5._03  J0226+0015   \n",
       "1  J022602.41+001536.6.fits  J022602.41+001536.6._01  J0226+0015   \n",
       "\n",
       "             cgm_name     gal_ra  gal_dec         z  OII_flux  OII_flux_sig  \\\n",
       "0  J0226+0015_271_194  36.506302  0.25904  0.352715       NaN         -99.0   \n",
       "1  J0226+0015_272_181  36.510059  0.26017  0.297832       NaN         -99.0   \n",
       "\n",
       "   OII_LQ    Hbeta_flux  Hbeta_flux_sig  Hbeta_LQ     OIII_flux  \\\n",
       "0   -99.0  2.130000e-17    2.440000e-18       1.0  2.250000e-17   \n",
       "1   -99.0           NaN   -9.900000e+01     -99.0  2.190000e-17   \n",
       "\n",
       "   OIII_flux_sig  OIII_LQ   Halpha_flux  Halpha_flux_sig  Halpha_LQ  \\\n",
       "0   1.760000e-18      1.0  3.120000e-17     2.470000e-18        1.0   \n",
       "1   1.870000e-18      1.0  2.080000e-17     8.410000e-19        1.0   \n",
       "\n",
       "       NII_flux  NII_flux_sig  NII_LQ     SIIa_flux  SIIa_flux_sig  SIIa_LQ  \\\n",
       "0  1.120000e-17  2.570000e-18     1.0  1.290000e-17   7.990000e-19      1.0   \n",
       "1           NaN -9.900000e+01   -99.0           NaN  -9.900000e+01      2.0   \n",
       "\n",
       "      SIIb_flux  SIIb_flux_sig  SIIb_LQ Comment  \n",
       "0  1.760000e-18   1.140000e-18      1.0     NaN  \n",
       "1           NaN  -9.900000e+01      2.0     NaN  "
      ]
     },
     "execution_count": 19,
     "metadata": {},
     "output_type": "execute_result"
    }
   ],
   "source": [
    "# gala is a data table of Final_galinfo.csv file which \n",
    "# is a subset of data from the galaxyinfo.xlsx data from CGM^2\n",
    "\n",
    "pd.set_option('display.max_columns', 100)\n",
    "pd.set_option('display.max_rows', 1000)\n",
    "\n",
    "galaxy = pd.read_csv('../test/Final_galinfo.csv')\n",
    "\n",
    "galaxy.to_numpy()   # This turns the DataFrame into a NumPy array.\n",
    "\n",
    "# This 'for' loop will look for '-99' values and change them to 'NaN' values.\n",
    "\n",
    "columns = ['NII_flux', 'SIIa_flux', 'Halpha_flux', 'OII_flux', 'Hbeta_flux', 'OIII_flux',\n",
    "          'SIIb_flux']\n",
    "\n",
    "for i in columns:\n",
    "    n = 0\n",
    "    while n < len(galaxy):\n",
    "        \n",
    "        if galaxy[i][n] == -99.0:\n",
    "            galaxy[i][n] = np.nan\n",
    "        n += 1    \n",
    "        \n",
    "        \n",
    "galaxy[0:2]"
   ]
  },
  {
   "cell_type": "markdown",
   "metadata": {},
   "source": [
    "## Calculate Distance"
   ]
  },
  {
   "cell_type": "code",
   "execution_count": 20,
   "metadata": {},
   "outputs": [],
   "source": [
    "galaxy['Distance'] = Distance(galaxy['z'])\n",
    "\n",
    "#galaxy"
   ]
  },
  {
   "cell_type": "markdown",
   "metadata": {},
   "source": [
    "## Calculate Halpha and Hbeta Luminosity"
   ]
  },
  {
   "cell_type": "code",
   "execution_count": 21,
   "metadata": {},
   "outputs": [],
   "source": [
    "galaxy['Ha_luminosity'] = Ha_luminosity(galaxy['Distance'],galaxy['Halpha_flux'])\n",
    "\n",
    "Hbeta = 2.86*galaxy['Hbeta_flux']\n",
    "galaxy['Hb_luminosity'] = Ha_luminosity(galaxy['Distance'],Hbeta)\n",
    "\n",
    "\n",
    "#galaxy"
   ]
  },
  {
   "cell_type": "markdown",
   "metadata": {},
   "source": [
    "## Calculate SFR"
   ]
  },
  {
   "cell_type": "code",
   "execution_count": 22,
   "metadata": {},
   "outputs": [],
   "source": [
    "# Calculating SFR using Halpha luminosity\n",
    "galaxy['SFR_Ha'] = SFR(galaxy['Ha_luminosity'])\n",
    "\n",
    "# Calculating SFR using Hbeta luminosity, and then eliminating values (NaN) \n",
    "# that already have 'SFR_Ha' values not equal to NaN\n",
    "sfr_b = SFR(galaxy['Hb_luminosity'])\n",
    "nosfr_b = np.where(galaxy['SFR_Ha'] > 0.0)\n",
    "sfr_b[nosfr_b] = np.nan\n",
    "galaxy['SFR_Hb'] = sfr_b\n",
    "\n",
    "#galaxy"
   ]
  },
  {
   "cell_type": "code",
   "execution_count": 23,
   "metadata": {},
   "outputs": [
    {
     "ename": "NameError",
     "evalue": "name 'SFR_flags' is not defined",
     "output_type": "error",
     "traceback": [
      "\u001b[0;31m---------------------------------------------------------------------------\u001b[0m",
      "\u001b[0;31mNameError\u001b[0m                                 Traceback (most recent call last)",
      "\u001b[0;32m<ipython-input-23-aa62719ff0d5>\u001b[0m in \u001b[0;36m<module>\u001b[0;34m\u001b[0m\n\u001b[0;32m----> 1\u001b[0;31m \u001b[0mSFR_switchboard\u001b[0m\u001b[0;34m(\u001b[0m\u001b[0mgalaxy\u001b[0m\u001b[0;34m)\u001b[0m\u001b[0;34m\u001b[0m\u001b[0;34m\u001b[0m\u001b[0m\n\u001b[0m",
      "\u001b[0;32m~/Desktop/werk-squad-tools/SFR.py\u001b[0m in \u001b[0;36mSFR_switchboard\u001b[0;34m(lines_df)\u001b[0m\n\u001b[1;32m     54\u001b[0m     \u001b[0mHa_index\u001b[0m \u001b[0;34m=\u001b[0m \u001b[0mlines_df\u001b[0m\u001b[0;34m[\u001b[0m\u001b[0mHa_cond\u001b[0m\u001b[0;34m]\u001b[0m\u001b[0;34m.\u001b[0m\u001b[0mindex\u001b[0m\u001b[0;34m\u001b[0m\u001b[0;34m\u001b[0m\u001b[0m\n\u001b[1;32m     55\u001b[0m     \u001b[0mHb_index\u001b[0m \u001b[0;34m=\u001b[0m \u001b[0mlines_df\u001b[0m\u001b[0;34m[\u001b[0m\u001b[0mHb_cond\u001b[0m\u001b[0;34m]\u001b[0m\u001b[0;34m.\u001b[0m\u001b[0mindex\u001b[0m\u001b[0;34m\u001b[0m\u001b[0;34m\u001b[0m\u001b[0m\n\u001b[0;32m---> 56\u001b[0;31m     \u001b[0mSFR_flags\u001b[0m\u001b[0;34m[\u001b[0m\u001b[0mHa_index\u001b[0m\u001b[0;34m]\u001b[0m \u001b[0;34m=\u001b[0m \u001b[0;34m'Ha'\u001b[0m\u001b[0;34m\u001b[0m\u001b[0;34m\u001b[0m\u001b[0m\n\u001b[0m\u001b[1;32m     57\u001b[0m     \u001b[0mSFR_flags\u001b[0m\u001b[0;34m[\u001b[0m\u001b[0mHb_index\u001b[0m\u001b[0;34m]\u001b[0m \u001b[0;34m=\u001b[0m \u001b[0;34m'Hb'\u001b[0m\u001b[0;34m\u001b[0m\u001b[0;34m\u001b[0m\u001b[0m\n\u001b[1;32m     58\u001b[0m     \u001b[0mSFR_flags\u001b[0m\u001b[0;34m[\u001b[0m\u001b[0;34m(\u001b[0m\u001b[0mSFR_flags\u001b[0m \u001b[0;34m!=\u001b[0m \u001b[0;34m'Ha'\u001b[0m\u001b[0;34m)\u001b[0m \u001b[0;34m&\u001b[0m \u001b[0;34m(\u001b[0m\u001b[0mSFR_flags\u001b[0m \u001b[0;34m!=\u001b[0m \u001b[0;34m'Hb'\u001b[0m\u001b[0;34m)\u001b[0m\u001b[0;34m]\u001b[0m \u001b[0;34m=\u001b[0m \u001b[0mnp\u001b[0m\u001b[0;34m.\u001b[0m\u001b[0mnan\u001b[0m\u001b[0;34m\u001b[0m\u001b[0;34m\u001b[0m\u001b[0m\n",
      "\u001b[0;31mNameError\u001b[0m: name 'SFR_flags' is not defined"
     ]
    }
   ],
   "source": [
    "SFR_switchboard(galaxy)"
   ]
  },
  {
   "cell_type": "markdown",
   "metadata": {},
   "source": [
    "## Calculate 'O3HB'"
   ]
  },
  {
   "cell_type": "code",
   "execution_count": 24,
   "metadata": {},
   "outputs": [],
   "source": [
    "galaxy['O3HB'] = O3HB(galaxy['OIII_flux'],galaxy['Hbeta_flux'])\n",
    "\n",
    "#galaxy"
   ]
  },
  {
   "cell_type": "markdown",
   "metadata": {},
   "source": [
    "## Calculate 'N2' "
   ]
  },
  {
   "cell_type": "code",
   "execution_count": 25,
   "metadata": {},
   "outputs": [],
   "source": [
    "# Supplemental 'N2' function\n",
    "\n",
    "def metal_Ha(F_N, F_Ha):\n",
    "    \n",
    "    '''\n",
    "    This function will calculate the flux ratio of Nitrogen II (6583) and H_alpha\n",
    "    \n",
    "    F_N = flux of Nitrogen II\n",
    "    F_Ha = Flux of H_alpha\n",
    "    '''\n",
    "    \n",
    "    n2 = F_N / F_Ha\n",
    "    \n",
    "    return n2\n",
    "\n",
    "galaxy['N2'] = metal_Ha(galaxy['NII_flux'],galaxy['Halpha_flux'])\n",
    "\n",
    "#galaxy"
   ]
  },
  {
   "cell_type": "markdown",
   "metadata": {},
   "source": [
    "## Calculate 'O3N2'"
   ]
  },
  {
   "cell_type": "code",
   "execution_count": 26,
   "metadata": {},
   "outputs": [],
   "source": [
    "galaxy['O3N2'] = O3N2(galaxy)\n",
    "\n",
    "#galaxy"
   ]
  },
  {
   "cell_type": "markdown",
   "metadata": {},
   "source": [
    "## Calculate 'Z_O3N2L'"
   ]
  },
  {
   "cell_type": "code",
   "execution_count": 27,
   "metadata": {},
   "outputs": [],
   "source": [
    "galaxy['Z_O3N2L'] = Z_O3N2L(galaxy)\n",
    "\n",
    "#galaxy"
   ]
  },
  {
   "cell_type": "markdown",
   "metadata": {},
   "source": [
    "#### -The 'O3N2' function only calculates metallicity if O3N2 < 1.9. There needs to be a function for calculating metallicity for O3N2 > 1.9."
   ]
  },
  {
   "cell_type": "code",
   "execution_count": 28,
   "metadata": {},
   "outputs": [
    {
     "data": {
      "text/plain": [
       "(array([414]),)"
      ]
     },
     "execution_count": 28,
     "metadata": {},
     "output_type": "execute_result"
    }
   ],
   "source": [
    "np.where(galaxy['O3N2'] > 1.9)"
   ]
  },
  {
   "cell_type": "markdown",
   "metadata": {},
   "source": [
    "-If 'O3N2' or 'O3HB' could not be calculated (NaN) and we only have N2 index then the equation for calculating 'Z_O3N2+' (when O3N2 > 1.9) can be used for calculating metallicity."
   ]
  },
  {
   "cell_type": "code",
   "execution_count": 29,
   "metadata": {},
   "outputs": [
    {
     "name": "stderr",
     "output_type": "stream",
     "text": [
      "/Users/josephbreneman/miniconda3/lib/python3.7/site-packages/ipykernel_launcher.py:7: RuntimeWarning: invalid value encountered in greater\n",
      "  import sys\n"
     ]
    },
    {
     "data": {
      "text/plain": [
       "(array([  0,  42,  45,  46,  48,  54,  62,  65,  66,  74,  75,  76,  89,\n",
       "         91,  92,  93,  95,  99, 145, 163, 181, 201, 202, 206, 207, 213,\n",
       "        214, 219, 223, 233, 234, 236, 243]),)"
      ]
     },
     "execution_count": 29,
     "metadata": {},
     "output_type": "execute_result"
    }
   ],
   "source": [
    "# This cell finds the N2 values that require metallicity calculations\n",
    "\n",
    "n2_maybe = np.where((np.isnan(galaxy['O3HB']) & (np.isnan(galaxy['O3N2']))))\n",
    "\n",
    "n2 = np.array(galaxy['N2'])\n",
    "n2_yes = n2[n2_maybe]\n",
    "np.where(n2_yes > 0.0)"
   ]
  },
  {
   "cell_type": "markdown",
   "metadata": {},
   "source": [
    "## Mass and friends"
   ]
  },
  {
   "cell_type": "code",
   "execution_count": 30,
   "metadata": {},
   "outputs": [],
   "source": [
    "# Steven's technique\n",
    "\n",
    "# filepath for table containing stellar masses for all the galaxies that we've been working with:\n",
    "\n",
    "home = expanduser('~')\n",
    "path = os.path.join(home,'Dropbox','**','cgmsq_allsurveys_cgmsystable.fits')\n",
    "massfilepath = glob(path, recursive=True)\n",
    "\n",
    "# Extracts table from fits file and resolves various issues required to concatenate this new table (which Matt\n",
    "# made at some point previously) with our new SFR info-containing table.\n",
    "\n",
    "mass_and_friends = Table.read(massfilepath[-1])\n",
    "mass_and_friends.remove_columns(['zRR', 'zRR_Err', 'spectype_rr'])\n",
    "mass_and_friends = mass_and_friends.to_pandas()\n",
    "mass_and_friends['id'] = mass_and_friends['id'].str.decode('utf-8')\n",
    "\n",
    "# merges mass table with initial (SFR-containing) one:\n",
    "\n",
    "galaxy = pd.merge(galaxy, mass_and_friends, on=['id'], how='right')\n",
    "\n",
    "# sorting out some (more) naming conflicts:\n",
    "\n",
    "galaxy.rename(columns={'z_x': 'z'}, inplace=True)\n"
   ]
  },
  {
   "cell_type": "markdown",
   "metadata": {},
   "source": [
    "## Calculate R23"
   ]
  },
  {
   "cell_type": "code",
   "execution_count": 31,
   "metadata": {},
   "outputs": [],
   "source": [
    "r23 = findR23(galaxy['OII_flux'],galaxy['OIII_flux'],galaxy['NII_flux'],galaxy['Halpha_flux'],\n",
    "             galaxy['Hbeta_flux'],galaxy['mstars'])"
   ]
  },
  {
   "cell_type": "markdown",
   "metadata": {},
   "source": [
    "## Add columns for R23 metallicity"
   ]
  },
  {
   "cell_type": "code",
   "execution_count": 32,
   "metadata": {},
   "outputs": [],
   "source": [
    "galaxy['Z_R23'] = r23[0]\n",
    "galaxy['Z_R23_flag'] = r23[1]"
   ]
  },
  {
   "cell_type": "code",
   "execution_count": 34,
   "metadata": {},
   "outputs": [],
   "source": [
    "# Defining the 'Z_flag' column\n",
    "\n",
    "z_flag = np.array((len(galaxy))*[0])\n",
    "\n",
    "# Flagging metallicity calculated with O3N2\n",
    "one = np.where(galaxy['Z_O3N2L'] > 0.0) \n",
    "z_flag[one] = 1\n",
    "\n",
    "#two = requires N2 index metallicity calculations\n",
    "\n",
    "# Flagging metallicity calculated with R23\n",
    "three = np.where(galaxy['Z_R23'] > 0.0)\n",
    "z_flag[three] = 3\n",
    "\n",
    "galaxy['Z_Flag'] = z_flag\n",
    "\n",
    "#galaxy"
   ]
  },
  {
   "cell_type": "markdown",
   "metadata": {},
   "source": [
    "-Save to .csv"
   ]
  },
  {
   "cell_type": "markdown",
   "metadata": {},
   "source": []
  }
 ],
 "metadata": {
  "kernelspec": {
   "display_name": "Python 3",
   "language": "python",
   "name": "python3"
  },
  "language_info": {
   "codemirror_mode": {
    "name": "ipython",
    "version": 3
   },
   "file_extension": ".py",
   "mimetype": "text/x-python",
   "name": "python",
   "nbconvert_exporter": "python",
   "pygments_lexer": "ipython3",
   "version": "3.7.2"
  }
 },
 "nbformat": 4,
 "nbformat_minor": 4
}
