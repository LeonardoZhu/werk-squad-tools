{
 "cells": [
  {
   "cell_type": "code",
   "execution_count": null,
   "metadata": {},
   "outputs": [],
   "source": [
    "from werk_squad_tools import Zcalc_R23"
   ]
  },
  {
   "cell_type": "code",
   "execution_count": null,
   "metadata": {},
   "outputs": [],
   "source": [
    "# just for now:"
   ]
  },
  {
   "cell_type": "code",
   "execution_count": 1,
   "metadata": {},
   "outputs": [],
   "source": [
    "import Zcalc_R23"
   ]
  },
  {
   "cell_type": "code",
   "execution_count": 2,
   "metadata": {},
   "outputs": [],
   "source": [
    "import numpy as np\n",
    "import pandas as pd\n",
    "import os\n",
    "from os.path import expanduser\n",
    "from glob import glob\n",
    "from importlib import reload"
   ]
  },
  {
   "cell_type": "code",
   "execution_count": 3,
   "metadata": {},
   "outputs": [
    {
     "data": {
      "text/plain": [
       "<module 'Zcalc_R23' from '/Users/bobzimmerman/Dropbox/IGM_spectra/jupyter_notebooks_SB/werksquadtools/werk-squad-tools/Zcalc_R23.py'>"
      ]
     },
     "execution_count": 3,
     "metadata": {},
     "output_type": "execute_result"
    }
   ],
   "source": [
    "reload(Zcalc_R23)"
   ]
  },
  {
   "cell_type": "code",
   "execution_count": 4,
   "metadata": {},
   "outputs": [],
   "source": [
    "home = expanduser('~')\n",
    "path = os.path.join(home,'Dropbox','**','CGM2galaxies.csv')\n",
    "filepath = glob(path, recursive=True)\n",
    "vetrr = pd.read_csv(filepath[0])"
   ]
  },
  {
   "cell_type": "code",
   "execution_count": 5,
   "metadata": {},
   "outputs": [],
   "source": [
    "# for testing the whole thing\n",
    "\n",
    "m = vetrr['mstars']\n",
    "OIII = vetrr['OIII_flux']\n",
    "Hbeta = vetrr['Hbeta_flux']\n",
    "NII = vetrr['NII_flux']\n",
    "Ha = vetrr['Halpha_flux']\n",
    "OII = vetrr['OII_flux']"
   ]
  },
  {
   "cell_type": "markdown",
   "metadata": {},
   "source": [
    "CASES TESTED:\n",
    "\n",
    "OII is -99: Check\n",
    "\n",
    "good values but can't break degeneracy: Check\n",
    "\n",
    "lower branch: Check\n",
    "\n",
    "upper branch using mass: Check\n",
    "\n",
    "N2 index: Check\n",
    "\n",
    "N2O2 method: Check (there's actually only one like this in the data set, but whatever)"
   ]
  },
  {
   "cell_type": "code",
   "execution_count": null,
   "metadata": {},
   "outputs": [],
   "source": [
    "# for testing individual cases"
   ]
  },
  {
   "cell_type": "code",
   "execution_count": 33,
   "metadata": {},
   "outputs": [],
   "source": [
    "OII0, OIII0, NII0, Ha0, Hbeta0, m0 = 1e-16, 1e-17, 5e-18, 1.1e-17, 0.9e-18, 9.01"
   ]
  },
  {
   "cell_type": "code",
   "execution_count": 34,
   "metadata": {},
   "outputs": [
    {
     "data": {
      "text/plain": [
       "(3.0919006948630994, 'upper')"
      ]
     },
     "execution_count": 34,
     "metadata": {},
     "output_type": "execute_result"
    }
   ],
   "source": [
    "test = Zcalc_R23.findR23(OII0, OIII0, NII0, Ha0, Hbeta0, m0)\n",
    "\n",
    "test"
   ]
  },
  {
   "cell_type": "markdown",
   "metadata": {},
   "source": [
    "# Important discovery! The way I was doing it before did require a for loop when called."
   ]
  },
  {
   "cell_type": "markdown",
   "metadata": {},
   "source": [
    "Guess I'd better fix that."
   ]
  },
  {
   "cell_type": "code",
   "execution_count": 8,
   "metadata": {},
   "outputs": [],
   "source": [
    "def lower_branch(x,y):\n",
    "    '''\n",
    "\n",
    "    Function called when degeneracy is broken by galaxy mass of < 8 log(M_sun).\n",
    "\n",
    "    Parameters\n",
    "    ----------\n",
    "\n",
    "    x : [float of some kind]\n",
    "        log(R23) from findR23.\n",
    "    y : [float of some kind]\n",
    "        log(1.3*`OIII`/`OII`) from findR23.\n",
    "\n",
    "    Returns\n",
    "    -------\n",
    "\n",
    "    Z : [float of some kind]\n",
    "        Metallicity with units of (12 + log(O/H)).\n",
    "    '''\n",
    "    Z = 12.0 - 4.944 + 0.767*x + 0.602*x**2 - y*(0.29+0.332*x-0.331*x**2)\n",
    "\n",
    "    return(Z)\n",
    "def upper_branch(x,y):\n",
    "    '''\n",
    "\n",
    "    Called when degeneracy is broken by N2O2, N2 index, or mass > 9 log(M_sun).\n",
    "\n",
    "    Parameters\n",
    "    ----------\n",
    "\n",
    "    x : [float of some kind]\n",
    "        log(R23) from findR23.\n",
    "    y : [float of some kind]\n",
    "        log(1.3*`OIII`/`OII`) from findR23.\n",
    "\n",
    "    Returns\n",
    "    -------\n",
    "\n",
    "    Z : [float of some kind]\n",
    "        Metallicity with units of (12 + log(O/H)).\n",
    "    '''\n",
    "    Z = 12.0 - 2.939 - 0.2*x - 0.237*x**2 - 0.305*x**3 - 0.0283*x**4 - y*(\n",
    "    0.0047 - 0.0221*x - 0.102*x**2 - 0.0817*x**3 - 0.00717*x**4)\n",
    "    return(Z)\n"
   ]
  },
  {
   "cell_type": "code",
   "execution_count": 9,
   "metadata": {},
   "outputs": [
    {
     "name": "stderr",
     "output_type": "stream",
     "text": [
      "/Users/bobzimmerman/anaconda3/lib/python3.7/site-packages/pandas/core/series.py:853: RuntimeWarning: invalid value encountered in log10\n",
      "  result = getattr(ufunc, method)(*inputs, **kwargs)\n"
     ]
    }
   ],
   "source": [
    "OIIHbeta = OII/Hbeta\n",
    "\n",
    "OIIIHbeta = OIII/Hbeta\n",
    "\n",
    "N2 = NII/Ha\n",
    "\n",
    "O3N2 = np.log10(OIIIHbeta/N2)\n",
    "\n",
    "N2O2 = NII/OII\n",
    "\n",
    "R23 = OIIHbeta+OIIIHbeta\n",
    "\n",
    "# actual arguments for metallicity functions\n",
    "x = np.log10(R23)\n",
    "y = np.log10(1.3*OIII/OII)"
   ]
  },
  {
   "cell_type": "code",
   "execution_count": null,
   "metadata": {},
   "outputs": [],
   "source": [
    "Z_R23 = np.empty([len(vetrr.z)])\n",
    "flag = np.full([len(vetrr.z)], '', dtype='<U100')\n",
    "\n",
    "# N2O2 method (if present at all):\n",
    "if np.log10(N2O2).any() > -1.2:\n",
    "    ind_N2O2 = np.ravel(np.where(np.log10(N2O2) > -1.2))\n",
    "    Z_R23[ind_N2O2] = upper_branch(x[ind_N2O2],y[ind_N2O2])\n",
    "    flag[ind_N2O2] = 'upper'\n",
    "    \n",
    "# N2 index:\n",
    "N2_ind = np.ravel(np.where((N2 > 0.1)) and np.where((np.isnan(Z_R23) == True)))\n",
    "Z_R23[N2_ind] = upper_branch(x[N2_ind],y[N2_ind])\n",
    "flag[N2_ind] = 'upper'\n",
    "\n",
    "# m:\n",
    "mind_low = np.ravel(np.where(m < 8) and np.where((np.isnan(Z_R23) == True)))\n",
    "Z_R23[mind_low] = lower_branch(x[mind_low],y[mind_low])\n",
    "flag[mind_low] = 'lower'\n",
    "        \n",
    "mind_high = np.ravel(np.where(m > 9) and np.where((np.isnan(Z_R23) == True)))\n",
    "Z_R23[mind_high] = upper_branch(x[mind_high],y[mind_high])\n",
    "flag[mind_high] = 'upper w/ m'\n",
    "\n",
    "# remains degenerate:\n",
    "flag[np.where(np.isnan(Z_R23) == True)] = 'none'"
   ]
  },
  {
   "cell_type": "markdown",
   "metadata": {},
   "source": [
    "# Okay great now back to testing."
   ]
  },
  {
   "cell_type": "code",
   "execution_count": 11,
   "metadata": {},
   "outputs": [],
   "source": [
    "import Zcalc_2"
   ]
  },
  {
   "cell_type": "code",
   "execution_count": 70,
   "metadata": {},
   "outputs": [
    {
     "data": {
      "text/plain": [
       "<module 'Zcalc_2' from '/Users/bobzimmerman/Dropbox/IGM_spectra/jupyter_notebooks_SB/werksquadtools/werk-squad-tools/Zcalc_2.py'>"
      ]
     },
     "execution_count": 70,
     "metadata": {},
     "output_type": "execute_result"
    }
   ],
   "source": [
    "reload(Zcalc_2)"
   ]
  },
  {
   "cell_type": "code",
   "execution_count": 62,
   "metadata": {},
   "outputs": [],
   "source": [
    "OII0, OIII0, NII0, Ha0, Hbeta0, m0 = 1e-16, 1e-17, 5e-16, 1.1e-16, 0.9e-18, 9.01"
   ]
  },
  {
   "cell_type": "code",
   "execution_count": 63,
   "metadata": {},
   "outputs": [
    {
     "data": {
      "text/plain": [
       "(3.0919006948630994, 'upper')"
      ]
     },
     "execution_count": 63,
     "metadata": {},
     "output_type": "execute_result"
    }
   ],
   "source": [
    "test = Zcalc_R23.findR23(OII0, OIII0, NII0, Ha0, Hbeta0, m0)\n",
    "\n",
    "test"
   ]
  },
  {
   "cell_type": "code",
   "execution_count": 71,
   "metadata": {},
   "outputs": [
    {
     "data": {
      "text/plain": [
       "(array([3.09190069]), array(['upper'], dtype='<U100'))"
      ]
     },
     "execution_count": 71,
     "metadata": {},
     "output_type": "execute_result"
    }
   ],
   "source": [
    "test = Zcalc_2.findR23(OII0, OIII0, NII0, Ha0, Hbeta0, m0)\n",
    "\n",
    "test"
   ]
  },
  {
   "cell_type": "code",
   "execution_count": 65,
   "metadata": {},
   "outputs": [],
   "source": [
    "# whole array now:"
   ]
  },
  {
   "cell_type": "code",
   "execution_count": 72,
   "metadata": {},
   "outputs": [
    {
     "data": {
      "text/plain": [
       "(array([            nan,             nan,             nan,             nan,\n",
       "         8.89733137e+00,             nan,             nan,  8.73394098e+00,\n",
       "                    nan,  8.96861932e+00,             nan,  8.81790237e+00,\n",
       "         8.79705079e+00,  8.66728882e+00,  8.79437491e+00,             nan,\n",
       "         8.60512014e+00,             nan,  8.97230113e+00,  8.66178354e+00,\n",
       "                    nan,             nan,  8.50752760e+00,             nan,\n",
       "                    nan,  8.97230113e+00,             nan,  8.68240069e+00,\n",
       "         8.74254732e+00,             nan,             nan,             nan,\n",
       "                    nan,             nan,             nan,             nan,\n",
       "         9.02171054e+00,             nan,             nan,  8.18003759e+00,\n",
       "         8.76686831e+00,  8.97230113e+00,             nan,             nan,\n",
       "         8.84764573e+00,  8.92936436e+00,             nan,             nan,\n",
       "         8.76332432e+00,  8.68784052e+00,             nan,             nan,\n",
       "                    nan,             nan,             nan,             nan,\n",
       "         8.84881535e+00,             nan,             nan,  8.95372520e+00,\n",
       "         8.59772944e+00,  8.12900048e+00,  8.53406380e+00,  8.85972372e+00,\n",
       "         8.49440480e+00,  8.80213755e+00,             nan,  8.47742847e+00,\n",
       "         8.24904224e+00,  8.60871051e+00,             nan,             nan,\n",
       "         8.20818089e+00,  8.78094062e+00,  9.03780922e+00,             nan,\n",
       "         8.54012002e+00,  8.87992957e+00,             nan,  8.84585399e+00,\n",
       "                    nan,             nan,             nan,  8.62156712e+00,\n",
       "         8.91500613e+00,  8.78350774e+00,  8.75749567e+00,  8.86791562e+00,\n",
       "         8.64956806e+00,  8.55937585e+00,  8.85120232e+00,  8.69063257e+00,\n",
       "         8.99186936e+00,  8.55088547e+00,  8.54179967e+00,  8.21800214e+00,\n",
       "         8.56688779e+00,             nan,             nan,             nan,\n",
       "         8.92596666e+00,             nan,  8.88674480e+00,             nan,\n",
       "                    nan,             nan,  8.96328026e+00,             nan,\n",
       "         8.91808992e+00,  8.90760304e+00,  8.99849372e+00,             nan,\n",
       "         8.98149034e+00,             nan,             nan,  8.91990641e+00,\n",
       "         8.49243537e+00,  8.69318729e+00,             nan,  8.70323525e+00,\n",
       "         8.97230113e+00,             nan,  8.60187074e+00,  8.66930605e+00,\n",
       "                    nan,             nan,             nan,             nan,\n",
       "         8.73456139e+00,  8.86039642e+00,  8.71716272e+00,             nan,\n",
       "         7.23967343e+00,             nan,             nan,  9.00545315e+00,\n",
       "         8.64382864e+00,  8.76335592e+00,  9.00850094e+00,  8.90619793e+00,\n",
       "         8.88008145e+00,  8.92205537e+00,  8.97230113e+00,             nan,\n",
       "         8.62222799e+00, -3.06059584e+04, -3.02655445e+04,             nan,\n",
       "                    nan,             nan,  8.44255150e+00,             nan,\n",
       "                    nan,             nan,  8.93855376e+00,             nan,\n",
       "         8.82472612e+00,             nan,  8.91616787e+00, -3.22297230e+04,\n",
       "         8.89848601e+00,  8.80133311e+00,             nan,  9.00998497e+00,\n",
       "         8.52642026e+00,             nan,  8.75282577e+00,             nan,\n",
       "         8.69327757e+00,             nan,  8.43565184e+00,             nan,\n",
       "         8.76223860e+00,             nan,  8.97490005e+00,  9.00649121e+00,\n",
       "                    nan,             nan,             nan,             nan,\n",
       "                    nan,             nan,             nan,  8.98000583e+00,\n",
       "                    nan,  8.62846384e+00,             nan,  8.96073486e+00,\n",
       "                    nan,  8.95496479e+00,  8.92255442e+00,  9.01776742e+00,\n",
       "         8.95934981e+00,             nan,  8.85018696e+00,             nan,\n",
       "                    nan,  8.97230113e+00,  8.69939068e+00,  8.97230113e+00,\n",
       "                    nan,             nan,             nan,  8.97230113e+00,\n",
       "                    nan,             nan,             nan,  8.73547862e+00,\n",
       "         8.92407635e+00,             nan,  8.97150713e+00,             nan,\n",
       "         8.63130991e+00,  8.76895256e+00,             nan,             nan,\n",
       "         8.96705728e+00,  9.04992836e+00,  8.97230113e+00,             nan,\n",
       "                    nan,             nan,  8.90064996e+00,  9.02602575e+00,\n",
       "         8.94459004e+00,             nan,  9.04417558e+00,  9.03191939e+00,\n",
       "                    nan,             nan,  8.91623138e+00,             nan,\n",
       "                    nan,  8.95705763e+00,             nan,  8.95167529e+00,\n",
       "                    nan,             nan,             nan,  8.97537168e+00,\n",
       "                    nan,  8.97230113e+00,             nan,  8.68100386e+00,\n",
       "                    nan,             nan,             nan,             nan,\n",
       "         8.70896413e+00,  9.00892203e+00,             nan,  9.06171327e+00,\n",
       "         8.88985632e+00,             nan,             nan,             nan,\n",
       "                    nan,  8.83892828e+00,             nan,             nan,\n",
       "         8.90603709e+00,  8.78525214e+00,             nan,  8.93669616e+00,\n",
       "                    nan,  8.74910424e+00,  9.01181045e+00,  8.86308148e+00,\n",
       "                    nan,             nan,             nan,             nan,\n",
       "                    nan,             nan,             nan,             nan,\n",
       "         8.93456783e+00,             nan,             nan,  8.95021402e+00,\n",
       "         8.72961798e+00,             nan,             nan,  8.97230113e+00,\n",
       "                    nan,             nan,             nan,             nan,\n",
       "                    nan,             nan,             nan,             nan,\n",
       "         8.58149817e+00,             nan,  8.80652570e+00,             nan,\n",
       "         7.27262393e+00,  8.72166494e+00,  8.75411372e+00,  8.97230113e+00,\n",
       "                    nan,  8.61482378e+00,  8.89288446e+00,             nan,\n",
       "         8.71835184e+00,             nan,  8.74064385e+03,             nan,\n",
       "         9.05693132e+00,             nan,  8.91083318e+00,             nan,\n",
       "                    nan,  8.86097312e+00,             nan,  8.59031829e+00,\n",
       "         8.49428654e+00,  8.80776612e+00,             nan,  8.97230113e+00,\n",
       "                    nan,             nan,  8.74322005e+00,             nan,\n",
       "                    nan,             nan,  8.97230113e+00,  8.93954100e+00,\n",
       "                    nan,  9.06396393e+00,  9.08849716e+00,             nan,\n",
       "                    nan,  8.97230113e+00,  8.90563600e+00,  8.99060429e+00,\n",
       "         8.92284307e+00,             nan,  8.69357055e+00,  9.05046153e+00,\n",
       "         8.96718640e+00,  8.71676826e+00,             nan,  9.08382084e+00,\n",
       "                    nan,             nan,             nan,  8.96575782e+00,\n",
       "                    nan,  8.81700554e+00,  8.97132407e+00,             nan,\n",
       "                    nan,  8.87231939e+00,  8.94049072e+00,  8.83901122e+00,\n",
       "         8.99683002e+00,  8.90434439e+00,  9.01467239e+00,             nan,\n",
       "         8.86910041e+00,  8.76484000e+00,  8.95666972e+00,  9.04162306e+00,\n",
       "         9.04540319e+00,  8.92885259e+00,  8.94926017e+00,  8.83094305e+00,\n",
       "         8.97230113e+00,  8.93005556e+00,  8.65142146e+00,  8.75648405e+00,\n",
       "         8.73751054e+00,  8.82611655e+00,  8.66419401e+00,  8.97358992e+00,\n",
       "         8.77992693e+00,  8.96517761e+00,             nan,             nan,\n",
       "                    nan,  8.86108008e+00,             nan,  8.76629311e+00,\n",
       "                    nan,             nan,             nan,  8.74352177e+00,\n",
       "         8.95617256e+00,             nan,  8.80949560e+00,  8.69377424e+00,\n",
       "         8.59401468e+00,  8.64176441e+00,  8.85463570e+00,  8.64187194e+00,\n",
       "         8.57445161e+00,  8.71598633e+00,  8.85554437e+00,  8.99494140e+00,\n",
       "         8.81718354e+00,  8.54011294e+00,  8.59294229e+00,  8.54527748e+00,\n",
       "                    nan,  8.82275836e+00,  8.75074462e+00,  8.54485066e+00,\n",
       "                    nan,  8.72463570e+00,  8.65162827e+00,             nan,\n",
       "         8.65195099e+00,             nan,  8.65830956e+00,  8.04222807e+00,\n",
       "                    nan,             nan,  8.35728638e+00,  8.72177991e+00,\n",
       "         8.67038763e+00,  8.75405357e+00,  8.85743718e+00,             nan,\n",
       "         8.60097095e+00,  8.78742340e+00,  8.92189591e+00,  8.81319251e+00,\n",
       "                    nan,  7.93174494e+00,             nan,  8.94368131e+00,\n",
       "         8.53170393e+00,             nan,  8.82621154e+00,  8.92554284e+00,\n",
       "         8.64900506e+00,  8.58323658e+00,  8.45314452e+00,  8.95575741e+00,\n",
       "                    nan,             nan,  8.73620120e+00,             nan,\n",
       "         9.02422660e+00,  8.97230113e+00,             nan,  8.88267422e+00,\n",
       "                    nan,             nan,             nan,             nan,\n",
       "         8.87751810e+00,             nan,  8.93975099e+00,             nan,\n",
       "         8.72250630e+00,             nan,  8.83723393e+00,  8.14814775e+00,\n",
       "                    nan,             nan,  7.86726305e+00,  8.49747252e+00,\n",
       "         9.07614521e+00,  9.12628848e+00,             nan,  8.97230113e+00,\n",
       "                    nan,             nan,  8.95581612e+00,  8.62868488e+00,\n",
       "                    nan,  8.64276610e+00,             nan,  8.79138738e+00,\n",
       "         8.80621666e+00,  9.00136807e+00,             nan,             nan,\n",
       "                    nan,  8.60965256e+00,  8.90211503e+00,  8.71037088e+00,\n",
       "         8.72663373e+00,             nan,             nan,             nan,\n",
       "                    nan,  8.67449787e+00,             nan,  8.93330759e+00,\n",
       "         8.97230113e+00,  8.88251514e+00,             nan,             nan,\n",
       "         8.54649180e+00,             nan,  8.96431272e+00,             nan,\n",
       "                    nan,  9.04627093e+00,             nan,  8.78386415e+00,\n",
       "                    nan,             nan,             nan,  8.97230113e+00,\n",
       "         8.88735405e+00,             nan,  8.97230113e+00,             nan,\n",
       "         8.85447235e+00,  8.70108392e+00,             nan,             nan,\n",
       "         8.31392728e+00,             nan,  8.97230113e+00,             nan,\n",
       "         8.99198620e+00,  8.83723844e+00,  8.90512258e+00,             nan,\n",
       "                    nan,  8.87827548e+00,             nan,             nan,\n",
       "                    nan,  8.90069232e+00,  8.95037841e+00,             nan,\n",
       "         8.93250536e+00,             nan,  8.71285598e+00,  8.57351516e+00,\n",
       "                    nan,             nan,             nan,  8.97230113e+00,\n",
       "                    nan,             nan,             nan,  8.97230113e+00,\n",
       "                    nan,  8.76563248e+00,             nan,  9.09144322e+00,\n",
       "                    nan,  9.01346082e+00,  9.05404212e+00,             nan,\n",
       "         8.88565749e+00,  8.58994542e+00,             nan,             nan,\n",
       "                    nan,             nan,  8.82350974e+00,  8.33851285e+00,\n",
       "                    nan,  8.63709068e+00,             nan,  8.88696221e+00,\n",
       "         8.92052657e+00,  8.99733471e+00,  8.77881923e+00,             nan,\n",
       "         8.87011118e+00,             nan,  8.97230113e+00,  8.81576645e+00,\n",
       "         8.68309254e+00,  8.97230113e+00,             nan,             nan,\n",
       "         8.72708987e+00,  8.73829356e+00,  8.73017419e+00,             nan,\n",
       "         8.80262036e+00,             nan,             nan,  8.95601209e+00,\n",
       "                    nan,             nan,  8.80183634e+00,             nan,\n",
       "         8.53247305e+00,  8.79021400e+00,  8.94240523e+00,             nan,\n",
       "                    nan,  8.75062518e+00,  8.38806296e+00,             nan,\n",
       "         8.82371479e+00,  8.97388367e+00,  8.97230113e+00,             nan,\n",
       "                    nan,             nan,  8.97230113e+00,             nan,\n",
       "         8.97230113e+00,             nan,             nan,             nan,\n",
       "                    nan,  8.97230113e+00,             nan,  8.67879685e+00,\n",
       "                    nan,             nan,             nan,  9.06113363e+00,\n",
       "         8.90725375e+00,             nan,  8.76837047e+00,             nan,\n",
       "         8.91222352e+00, -1.75249970e+04,             nan,  9.04937326e+00,\n",
       "         8.71803185e+00,  8.72173421e+00,  8.97230113e+00,  8.85437434e+00,\n",
       "                    nan,  8.85069049e+00,  8.97230113e+00,  8.49372504e+00,\n",
       "                    nan,  8.97230113e+00,             nan,             nan,\n",
       "         8.87309308e+00,  8.97230113e+00,             nan,             nan,\n",
       "                    nan,             nan,             nan,             nan,\n",
       "                    nan,             nan,  8.91848081e+00,  8.79057407e+00,\n",
       "         8.70690778e+00,  8.80107401e+00,             nan,  8.69356504e+00,\n",
       "         8.79270490e+00,             nan,  8.85380526e+00,             nan,\n",
       "         9.06577046e+00,  8.82344871e+00,             nan,             nan,\n",
       "                    nan,  8.97230113e+00,             nan,  8.73899723e+00,\n",
       "                    nan,  8.93305783e+00,  8.96922396e+00,             nan,\n",
       "                    nan,             nan,  8.84440884e+00,             nan,\n",
       "         8.97230113e+00,  8.71124983e+00,  8.92009185e+00,             nan,\n",
       "                    nan,  8.71702969e+00,  8.82565060e+00,             nan,\n",
       "         8.84943393e+00,             nan,             nan,  8.76787464e+00,\n",
       "         8.67528754e+00,  8.87535482e+00,             nan,             nan,\n",
       "                    nan,             nan,  8.92778649e+00,  8.51974335e+00,\n",
       "         7.88025449e+00,  8.77305283e+00,             nan,  8.77540848e+00,\n",
       "                    nan,             nan,             nan,  8.87158200e+00,\n",
       "                    nan,  8.72879886e+00,  8.92446040e+00,             nan,\n",
       "                    nan,  8.97691789e+00,             nan,             nan,\n",
       "         8.88573144e+00,  8.79080157e+00,             nan,             nan,\n",
       "                    nan,  8.68205102e+00,  8.95451374e+00,             nan,\n",
       "                    nan,             nan,             nan,             nan,\n",
       "         8.41970731e+00,  8.45266051e+00,  8.96190021e+00,  8.93194452e+00,\n",
       "         8.81908700e+00,  8.65620171e+00,  9.01954022e+00,  9.04541750e+00,\n",
       "                    nan,             nan,  8.98842627e+00,             nan,\n",
       "         8.77225467e+00,             nan,             nan,  8.31609770e+00,\n",
       "                    nan,  8.77498211e+00,  8.53147095e+00,             nan,\n",
       "                    nan,  9.08082310e+00,  8.97230113e+00,  8.94191328e+00,\n",
       "         8.85464404e+00,  8.83747596e+00,  8.85649972e+00,  8.77235317e+00,\n",
       "         8.97230113e+00,             nan,             nan,             nan,\n",
       "                    nan,             nan,             nan,             nan,\n",
       "                    nan,             nan,             nan,             nan,\n",
       "                    nan,             nan,             nan,             nan,\n",
       "                    nan,             nan,             nan,             nan,\n",
       "                    nan,             nan,             nan,             nan,\n",
       "                    nan,             nan,             nan,             nan,\n",
       "                    nan,             nan,             nan,             nan,\n",
       "                    nan,             nan,             nan,             nan,\n",
       "                    nan,             nan,             nan,             nan,\n",
       "                    nan,             nan,             nan,             nan,\n",
       "                    nan,             nan,             nan,             nan,\n",
       "                    nan,             nan,             nan,             nan,\n",
       "                    nan,             nan,             nan,             nan,\n",
       "                    nan,             nan,             nan,             nan,\n",
       "                    nan,             nan,             nan,             nan,\n",
       "                    nan,             nan,             nan,             nan,\n",
       "                    nan,             nan,             nan,             nan,\n",
       "                    nan,             nan,             nan,             nan,\n",
       "                    nan,             nan,             nan,             nan,\n",
       "                    nan,             nan,             nan,             nan,\n",
       "                    nan,             nan,             nan,             nan,\n",
       "                    nan,             nan,             nan,             nan,\n",
       "                    nan,             nan,             nan,             nan,\n",
       "                    nan,             nan,             nan,             nan,\n",
       "                    nan,             nan,             nan,             nan,\n",
       "                    nan,             nan,             nan,             nan,\n",
       "                    nan,             nan,             nan,             nan,\n",
       "                    nan,             nan,             nan,             nan,\n",
       "                    nan,             nan,             nan,             nan,\n",
       "                    nan,             nan,             nan,             nan,\n",
       "                    nan,             nan,             nan,             nan,\n",
       "                    nan,             nan,             nan,             nan,\n",
       "                    nan,             nan,             nan,             nan,\n",
       "                    nan,             nan,             nan,             nan,\n",
       "                    nan,             nan,             nan,             nan,\n",
       "                    nan,             nan,             nan,             nan,\n",
       "                    nan,             nan,             nan,             nan,\n",
       "                    nan,             nan,             nan,             nan,\n",
       "                    nan,             nan,             nan,             nan,\n",
       "                    nan,             nan,             nan,             nan,\n",
       "                    nan,             nan,             nan,             nan,\n",
       "                    nan,             nan,             nan,             nan,\n",
       "                    nan,             nan,             nan,             nan,\n",
       "                    nan,             nan,             nan,             nan,\n",
       "                    nan,             nan,             nan,             nan,\n",
       "                    nan,             nan,             nan,             nan,\n",
       "                    nan,             nan,             nan,             nan,\n",
       "                    nan,             nan,             nan,             nan,\n",
       "                    nan,             nan,             nan,             nan,\n",
       "                    nan,             nan,             nan,             nan,\n",
       "                    nan,             nan,             nan,             nan,\n",
       "                    nan,             nan,             nan,             nan,\n",
       "                    nan,             nan,             nan,             nan,\n",
       "                    nan,             nan,             nan,             nan,\n",
       "                    nan,             nan,             nan,             nan,\n",
       "                    nan,             nan,             nan,             nan,\n",
       "                    nan]),\n",
       " array(['none', 'none', 'none', 'none', 'upper', 'none', 'none', 'upper',\n",
       "        'none', 'upper w/ mass', 'none', 'upper', 'upper w/ mass', 'upper',\n",
       "        'upper w/ mass', 'none', 'upper', 'none', 'upper', 'upper', 'none',\n",
       "        'none', 'upper', 'none', 'none', 'upper', 'none', 'upper', 'upper',\n",
       "        'none', 'none', 'none', 'none', 'none', 'none', 'none', 'upper',\n",
       "        'none', 'none', 'upper', 'upper', 'upper', 'none', 'none', 'upper',\n",
       "        'upper', 'none', 'none', 'upper', 'upper', 'none', 'none', 'none',\n",
       "        'none', 'none', 'none', 'upper', 'none', 'none', 'upper', 'upper',\n",
       "        'upper', 'upper', 'upper', 'upper', 'upper', 'none', 'upper',\n",
       "        'upper', 'upper', 'none', 'none', 'upper', 'upper', 'upper',\n",
       "        'none', 'upper', 'upper', 'none', 'upper', 'none', 'none', 'none',\n",
       "        'upper', 'upper', 'upper', 'upper', 'upper', 'upper', 'upper',\n",
       "        'upper', 'upper', 'upper', 'upper', 'upper', 'upper', 'upper',\n",
       "        'none', 'none', 'none', 'upper', 'none', 'upper', 'none', 'none',\n",
       "        'none', 'upper', 'none', 'upper', 'upper', 'upper', 'none',\n",
       "        'upper', 'none', 'none', 'upper', 'upper', 'upper', 'none',\n",
       "        'upper', 'upper', 'none', 'upper', 'upper w/ mass', 'none', 'none',\n",
       "        'none', 'none', 'upper', 'upper', 'upper', 'none', 'upper', 'none',\n",
       "        'none', 'upper', 'upper', 'upper', 'upper', 'upper', 'upper',\n",
       "        'upper', 'upper', 'none', 'upper', 'upper', 'upper', 'none',\n",
       "        'none', 'none', 'upper', 'none', 'none', 'none', 'upper', 'none',\n",
       "        'upper', 'none', 'upper', 'upper w/ mass', 'upper', 'upper',\n",
       "        'none', 'upper', 'upper', 'none', 'upper', 'none', 'upper', 'none',\n",
       "        'upper', 'none', 'upper', 'none', 'upper', 'upper', 'none', 'none',\n",
       "        'none', 'none', 'none', 'none', 'none', 'upper', 'none', 'upper',\n",
       "        'none', 'upper', 'none', 'upper', 'upper', 'upper', 'upper',\n",
       "        'none', 'upper', 'none', 'none', 'upper', 'upper', 'upper', 'none',\n",
       "        'none', 'none', 'upper w/ mass', 'none', 'none', 'none', 'upper',\n",
       "        'upper', 'none', 'upper', 'none', 'upper', 'upper', 'none', 'none',\n",
       "        'upper', 'upper', 'upper', 'none', 'none', 'none', 'upper',\n",
       "        'upper', 'upper', 'none', 'upper', 'upper', 'none', 'none',\n",
       "        'upper', 'none', 'none', 'upper', 'none', 'upper', 'none', 'none',\n",
       "        'none', 'upper', 'none', 'upper', 'none', 'upper', 'none', 'none',\n",
       "        'none', 'none', 'upper', 'upper', 'none', 'upper', 'upper', 'none',\n",
       "        'none', 'none', 'none', 'upper', 'none', 'none', 'upper w/ mass',\n",
       "        'upper', 'none', 'upper', 'none', 'upper', 'upper', 'upper',\n",
       "        'none', 'none', 'none', 'none', 'none', 'none', 'none', 'none',\n",
       "        'upper', 'none', 'none', 'upper', 'upper', 'none', 'none', 'upper',\n",
       "        'none', 'none', 'none', 'none', 'none', 'none', 'none', 'none',\n",
       "        'upper w/ mass', 'none', 'upper', 'none', 'upper', 'upper',\n",
       "        'upper', 'upper', 'none', 'upper', 'upper', 'none', 'upper',\n",
       "        'none', 'upper', 'none', 'upper', 'none', 'upper', 'none', 'none',\n",
       "        'upper', 'none', 'upper', 'upper', 'upper', 'none',\n",
       "        'upper w/ mass', 'none', 'none', 'upper', 'none', 'none', 'none',\n",
       "        'upper', 'upper', 'none', 'upper', 'upper', 'none', 'none',\n",
       "        'upper', 'upper', 'upper', 'upper', 'none', 'upper', 'upper',\n",
       "        'upper', 'upper', 'none', 'upper', 'none', 'none', 'none', 'upper',\n",
       "        'none', 'upper', 'upper', 'none', 'none', 'upper', 'upper',\n",
       "        'upper', 'upper', 'upper', 'upper', 'none', 'upper', 'upper',\n",
       "        'upper', 'upper w/ mass', 'upper', 'upper', 'upper', 'upper',\n",
       "        'upper', 'upper', 'upper', 'upper', 'upper', 'upper', 'upper',\n",
       "        'upper', 'upper', 'upper', 'none', 'none', 'none', 'upper', 'none',\n",
       "        'upper', 'none', 'none', 'none', 'upper', 'upper', 'none', 'upper',\n",
       "        'upper w/ mass', 'upper', 'upper', 'upper', 'upper', 'upper',\n",
       "        'upper', 'upper', 'upper', 'upper', 'upper', 'upper', 'upper',\n",
       "        'none', 'upper', 'upper', 'upper', 'none', 'upper', 'upper',\n",
       "        'none', 'upper', 'none', 'upper', 'upper', 'none', 'none', 'upper',\n",
       "        'upper', 'upper', 'upper', 'upper', 'none', 'upper', 'upper',\n",
       "        'upper', 'upper', 'none', 'upper', 'none', 'upper', 'upper',\n",
       "        'none', 'upper', 'upper', 'upper', 'upper', 'upper', 'upper',\n",
       "        'none', 'none', 'upper', 'none', 'upper', 'upper', 'none', 'upper',\n",
       "        'none', 'none', 'none', 'none', 'upper', 'none', 'upper', 'none',\n",
       "        'upper', 'none', 'upper', 'upper', 'none', 'none', 'upper',\n",
       "        'upper', 'upper', 'upper', 'none', 'upper w/ mass', 'none', 'none',\n",
       "        'upper w/ mass', 'upper w/ mass', 'none', 'upper w/ mass', 'none',\n",
       "        'upper w/ mass', 'upper w/ mass', 'upper w/ mass', 'none', 'none',\n",
       "        'none', 'upper', 'upper', 'upper', 'upper', 'none', 'none', 'none',\n",
       "        'none', 'upper', 'none', 'upper', 'upper', 'upper', 'none', 'none',\n",
       "        'upper w/ mass', 'none', 'upper', 'none', 'none', 'upper', 'none',\n",
       "        'upper w/ mass', 'none', 'none', 'none', 'upper', 'upper', 'none',\n",
       "        'upper', 'none', 'upper', 'upper', 'none', 'none', 'upper', 'none',\n",
       "        'upper', 'none', 'upper', 'upper', 'upper', 'none', 'none',\n",
       "        'upper', 'none', 'none', 'none', 'upper', 'upper', 'none', 'upper',\n",
       "        'none', 'upper', 'upper', 'none', 'none', 'none', 'upper', 'none',\n",
       "        'none', 'none', 'upper', 'none', 'upper', 'none', 'upper', 'none',\n",
       "        'upper', 'upper', 'none', 'upper', 'upper', 'none', 'none', 'none',\n",
       "        'none', 'upper', 'upper', 'none', 'upper', 'none', 'upper',\n",
       "        'upper', 'upper', 'upper', 'none', 'upper', 'none', 'upper',\n",
       "        'upper', 'upper', 'upper', 'none', 'none', 'upper', 'upper',\n",
       "        'upper', 'none', 'upper', 'none', 'none', 'upper', 'none', 'none',\n",
       "        'upper', 'none', 'upper', 'upper', 'upper', 'none', 'none',\n",
       "        'upper', 'upper', 'none', 'upper', 'upper', 'upper', 'none',\n",
       "        'none', 'none', 'upper w/ mass', 'none', 'upper', 'none', 'none',\n",
       "        'none', 'none', 'upper', 'none', 'upper', 'none', 'none', 'none',\n",
       "        'upper', 'upper', 'none', 'upper', 'none', 'upper', 'upper',\n",
       "        'none', 'upper', 'upper', 'upper', 'upper', 'upper', 'none',\n",
       "        'upper', 'upper', 'upper', 'none', 'upper', 'none', 'none',\n",
       "        'upper', 'upper', 'none', 'none', 'none', 'none', 'none', 'none',\n",
       "        'none', 'none', 'upper', 'upper', 'upper', 'upper', 'none',\n",
       "        'upper', 'upper', 'none', 'upper', 'none', 'upper', 'upper',\n",
       "        'none', 'none', 'none', 'upper', 'none', 'upper', 'none', 'upper',\n",
       "        'upper', 'none', 'none', 'none', 'upper', 'none', 'upper', 'upper',\n",
       "        'upper', 'none', 'none', 'upper', 'upper', 'none', 'upper', 'none',\n",
       "        'none', 'upper', 'upper', 'upper', 'none', 'none', 'none', 'none',\n",
       "        'upper', 'upper', 'lower', 'upper', 'none', 'upper', 'none',\n",
       "        'none', 'none', 'upper', 'none', 'upper', 'upper', 'none', 'none',\n",
       "        'upper', 'none', 'none', 'upper', 'upper', 'none', 'none', 'none',\n",
       "        'upper', 'upper', 'none', 'none', 'none', 'none', 'none', 'upper',\n",
       "        'upper', 'upper', 'upper', 'upper', 'upper', 'upper', 'upper',\n",
       "        'none', 'none', 'upper', 'none', 'upper', 'none', 'none', 'upper',\n",
       "        'none', 'upper', 'upper', 'none', 'none', 'upper', 'upper',\n",
       "        'upper', 'upper', 'upper', 'upper', 'upper', 'upper', 'none',\n",
       "        'none', 'none', 'none', 'none', 'none', 'none', 'none', 'none',\n",
       "        'none', 'none', 'none', 'none', 'none', 'none', 'none', 'none',\n",
       "        'none', 'none', 'none', 'none', 'none', 'none', 'none', 'none',\n",
       "        'none', 'none', 'none', 'none', 'none', 'none', 'none', 'none',\n",
       "        'none', 'none', 'none', 'none', 'none', 'none', 'none', 'none',\n",
       "        'none', 'none', 'none', 'none', 'none', 'none', 'none', 'none',\n",
       "        'none', 'none', 'none', 'none', 'none', 'none', 'none', 'none',\n",
       "        'none', 'none', 'none', 'none', 'none', 'none', 'none', 'none',\n",
       "        'none', 'none', 'none', 'none', 'none', 'none', 'none', 'none',\n",
       "        'none', 'none', 'none', 'none', 'none', 'none', 'none', 'none',\n",
       "        'none', 'none', 'none', 'none', 'none', 'none', 'none', 'none',\n",
       "        'none', 'none', 'none', 'none', 'none', 'none', 'none', 'none',\n",
       "        'none', 'none', 'none', 'none', 'none', 'none', 'none', 'none',\n",
       "        'none', 'none', 'none', 'none', 'none', 'none', 'none', 'none',\n",
       "        'none', 'none', 'none', 'none', 'none', 'none', 'none', 'none',\n",
       "        'none', 'none', 'none', 'none', 'none', 'none', 'none', 'none',\n",
       "        'none', 'none', 'none', 'none', 'none', 'none', 'none', 'none',\n",
       "        'none', 'none', 'none', 'none', 'none', 'none', 'none', 'none',\n",
       "        'none', 'none', 'none', 'none', 'none', 'none', 'none', 'none',\n",
       "        'none', 'none', 'none', 'none', 'none', 'none', 'none', 'none',\n",
       "        'none', 'none', 'none', 'none', 'none', 'none', 'none', 'none',\n",
       "        'none', 'none', 'none', 'none', 'none', 'none', 'none', 'none',\n",
       "        'none', 'none', 'none', 'none', 'none', 'none', 'none', 'none',\n",
       "        'none', 'none', 'none', 'none', 'none', 'none', 'none', 'none',\n",
       "        'none', 'none', 'none', 'none', 'none', 'none', 'none', 'none',\n",
       "        'none', 'none', 'none', 'none', 'none', 'none', 'none', 'none',\n",
       "        'none', 'none', 'none', 'none', 'none', 'none', 'none', 'none',\n",
       "        'none', 'none', 'none', 'none', 'none', 'none', 'none', 'none',\n",
       "        'none', 'none', 'none'], dtype='<U100'))"
      ]
     },
     "execution_count": 72,
     "metadata": {},
     "output_type": "execute_result"
    }
   ],
   "source": [
    "Zcalc_2.findR23(OII, OIII, NII, Ha, Hbeta, m)"
   ]
  },
  {
   "cell_type": "code",
   "execution_count": 68,
   "metadata": {},
   "outputs": [],
   "source": [
    "# looks aight"
   ]
  },
  {
   "cell_type": "code",
   "execution_count": null,
   "metadata": {},
   "outputs": [],
   "source": []
  }
 ],
 "metadata": {
  "kernelspec": {
   "display_name": "Python 3",
   "language": "python",
   "name": "python3"
  },
  "language_info": {
   "codemirror_mode": {
    "name": "ipython",
    "version": 3
   },
   "file_extension": ".py",
   "mimetype": "text/x-python",
   "name": "python",
   "nbconvert_exporter": "python",
   "pygments_lexer": "ipython3",
   "version": "3.7.4"
  }
 },
 "nbformat": 4,
 "nbformat_minor": 2
}
