{
 "cells": [
  {
   "cell_type": "code",
   "execution_count": 124,
   "metadata": {},
   "outputs": [],
   "source": [
    "import numpy as np\n"
   ]
  },
  {
   "cell_type": "code",
   "execution_count": 125,
   "metadata": {},
   "outputs": [],
   "source": [
    "def logN2_metallicity(N2):\n",
    "    iterable = ((8.92+(0.57*np.log10(N2[i]))) for i in range(len(N2)))\n",
    "    N2_metallicity=np.fromiter(iterable, np.float64)\n",
    "    return N2_metallicity"
   ]
  },
  {
   "cell_type": "markdown",
   "metadata": {},
   "source": [
    "#### alt method : np.nan situation.. idk if this is needed or not because the prev function above seems to simply return np.nan where it belongs...\n",
    "\n",
    "def logN2_metallicity(N2):\n",
    "    m=[]\n",
    "    \n",
    "    for i in range(len(N2)):\n",
    "        m.append(i)\n",
    "        if (~np.isnan(N2[i])):\n",
    "            m[i]=np.float(8.92+(0.57*np.log10(N2[i])))\n",
    "        else:\n",
    "            m[i]=np.nan\n",
    "        i+=1    \n",
    "    return m\n",
    "\n",
    "\n",
    "\n",
    "           "
   ]
  },
  {
   "cell_type": "code",
   "execution_count": null,
   "metadata": {},
   "outputs": [],
   "source": []
  }
 ],
 "metadata": {
  "kernelspec": {
   "display_name": "Python 3",
   "language": "python",
   "name": "python3"
  },
  "language_info": {
   "codemirror_mode": {
    "name": "ipython",
    "version": 3
   },
   "file_extension": ".py",
   "mimetype": "text/x-python",
   "name": "python",
   "nbconvert_exporter": "python",
   "pygments_lexer": "ipython3",
   "version": "3.6.10"
  }
 },
 "nbformat": 4,
 "nbformat_minor": 4
}
